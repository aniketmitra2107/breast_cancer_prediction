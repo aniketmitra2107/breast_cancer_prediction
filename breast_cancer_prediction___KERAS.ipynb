{
  "nbformat": 4,
  "nbformat_minor": 0,
  "metadata": {
    "colab": {
      "name": "breast_cancer_prediction___KERAS.ipynb",
      "version": "0.3.2",
      "provenance": []
    },
    "kernelspec": {
      "name": "python3",
      "display_name": "Python 3"
    }
  },
  "cells": [
    {
      "cell_type": "code",
      "metadata": {
        "id": "1rI19udN9Wvu",
        "colab_type": "code",
        "colab": {}
      },
      "source": [
        "import pandas as pd\n",
        "from google.colab import files"
      ],
      "execution_count": 0,
      "outputs": []
    },
    {
      "cell_type": "code",
      "metadata": {
        "id": "AQOub0Mi9pVB",
        "colab_type": "code",
        "colab": {
          "resources": {
            "http://localhost:8080/nbextensions/google.colab/files.js": {
              "data": "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",
              "ok": true,
              "headers": [
                [
                  "content-type",
                  "application/javascript"
                ]
              ],
              "status": 200,
              "status_text": ""
            }
          },
          "base_uri": "https://localhost:8080/",
          "height": 176
        },
        "outputId": "459edc15-6a98-4e90-ffab-3d0e2c095058"
      },
      "source": [
        "file = files.upload()\n",
        "X_train = pd.read_csv('xtrain.csv', header=None)\n",
        "Y_train = pd.read_csv('ytrain.csv', header=None)\n",
        "X_test = pd.read_csv('xtest.csv', header=None)\n",
        "Y_test = pd.read_csv('ytest.csv', header=None)\n"
      ],
      "execution_count": 4,
      "outputs": [
        {
          "output_type": "display_data",
          "data": {
            "text/html": [
              "\n",
              "     <input type=\"file\" id=\"files-ea78b0d8-124e-4d6c-9cff-bee3bc9dc01e\" name=\"files[]\" multiple disabled />\n",
              "     <output id=\"result-ea78b0d8-124e-4d6c-9cff-bee3bc9dc01e\">\n",
              "      Upload widget is only available when the cell has been executed in the\n",
              "      current browser session. Please rerun this cell to enable.\n",
              "      </output>\n",
              "      <script src=\"/nbextensions/google.colab/files.js\"></script> "
            ],
            "text/plain": [
              "<IPython.core.display.HTML object>"
            ]
          },
          "metadata": {
            "tags": []
          }
        },
        {
          "output_type": "stream",
          "text": [
            "Saving xtest.csv to xtest.csv\n",
            "Saving xtrain.csv to xtrain (1).csv\n",
            "Saving ytest.csv to ytest.csv\n",
            "Saving ytrain.csv to ytrain.csv\n"
          ],
          "name": "stdout"
        }
      ]
    },
    {
      "cell_type": "code",
      "metadata": {
        "id": "1_aOYbI3-4_T",
        "colab_type": "code",
        "colab": {}
      },
      "source": [
        "from keras.models import Sequential\n",
        "from keras.layers import Dense"
      ],
      "execution_count": 0,
      "outputs": []
    },
    {
      "cell_type": "code",
      "metadata": {
        "id": "yWXNZhsHB7me",
        "colab_type": "code",
        "colab": {}
      },
      "source": [
        "model = Sequential()\n",
        "model.add(Dense(units = 16, activation = 'relu', input_dim = 30))\n",
        "model.add(Dense(units = 8, activation = 'relu'))\n",
        "model.add(Dense(units = 6, activation = 'relu'))\n",
        "model.add(Dense(units = 1, activation = 'sigmoid'))\n",
        "model.compile(optimizer = 'sgd', loss = 'binary_crossentropy')"
      ],
      "execution_count": 0,
      "outputs": []
    },
    {
      "cell_type": "code",
      "metadata": {
        "id": "3eHdnCEDF8PF",
        "colab_type": "code",
        "colab": {
          "base_uri": "https://localhost:8080/",
          "height": 1000
        },
        "outputId": "d6084938-4a97-4386-a1bd-d7ffaa26fe1d"
      },
      "source": [
        "model.fit(X_train, Y_train, epochs = 100)"
      ],
      "execution_count": 22,
      "outputs": [
        {
          "output_type": "stream",
          "text": [
            "Epoch 1/100\n",
            "455/455 [==============================] - 0s 632us/step - loss: 0.7184\n",
            "Epoch 2/100\n",
            "455/455 [==============================] - 0s 41us/step - loss: 0.6354\n",
            "Epoch 3/100\n",
            "455/455 [==============================] - 0s 38us/step - loss: 0.5884\n",
            "Epoch 4/100\n",
            "455/455 [==============================] - 0s 41us/step - loss: 0.5488\n",
            "Epoch 5/100\n",
            "455/455 [==============================] - 0s 43us/step - loss: 0.5105\n",
            "Epoch 6/100\n",
            "455/455 [==============================] - 0s 52us/step - loss: 0.4727\n",
            "Epoch 7/100\n",
            "455/455 [==============================] - 0s 41us/step - loss: 0.4364\n",
            "Epoch 8/100\n",
            "455/455 [==============================] - 0s 40us/step - loss: 0.4026\n",
            "Epoch 9/100\n",
            "455/455 [==============================] - 0s 50us/step - loss: 0.3700\n",
            "Epoch 10/100\n",
            "455/455 [==============================] - 0s 47us/step - loss: 0.3411\n",
            "Epoch 11/100\n",
            "455/455 [==============================] - 0s 48us/step - loss: 0.3151\n",
            "Epoch 12/100\n",
            "455/455 [==============================] - 0s 50us/step - loss: 0.2908\n",
            "Epoch 13/100\n",
            "455/455 [==============================] - 0s 48us/step - loss: 0.2700\n",
            "Epoch 14/100\n",
            "455/455 [==============================] - 0s 43us/step - loss: 0.2514\n",
            "Epoch 15/100\n",
            "455/455 [==============================] - 0s 47us/step - loss: 0.2344\n",
            "Epoch 16/100\n",
            "455/455 [==============================] - 0s 44us/step - loss: 0.2199\n",
            "Epoch 17/100\n",
            "455/455 [==============================] - 0s 46us/step - loss: 0.2063\n",
            "Epoch 18/100\n",
            "455/455 [==============================] - 0s 41us/step - loss: 0.1935\n",
            "Epoch 19/100\n",
            "455/455 [==============================] - 0s 43us/step - loss: 0.1827\n",
            "Epoch 20/100\n",
            "455/455 [==============================] - 0s 46us/step - loss: 0.1730\n",
            "Epoch 21/100\n",
            "455/455 [==============================] - 0s 46us/step - loss: 0.1643\n",
            "Epoch 22/100\n",
            "455/455 [==============================] - 0s 48us/step - loss: 0.1563\n",
            "Epoch 23/100\n",
            "455/455 [==============================] - 0s 47us/step - loss: 0.1488\n",
            "Epoch 24/100\n",
            "455/455 [==============================] - 0s 45us/step - loss: 0.1423\n",
            "Epoch 25/100\n",
            "455/455 [==============================] - 0s 44us/step - loss: 0.1365\n",
            "Epoch 26/100\n",
            "455/455 [==============================] - 0s 41us/step - loss: 0.1308\n",
            "Epoch 27/100\n",
            "455/455 [==============================] - 0s 50us/step - loss: 0.1256\n",
            "Epoch 28/100\n",
            "455/455 [==============================] - 0s 44us/step - loss: 0.1208\n",
            "Epoch 29/100\n",
            "455/455 [==============================] - 0s 43us/step - loss: 0.1168\n",
            "Epoch 30/100\n",
            "455/455 [==============================] - 0s 54us/step - loss: 0.1131\n",
            "Epoch 31/100\n",
            "455/455 [==============================] - 0s 48us/step - loss: 0.1095\n",
            "Epoch 32/100\n",
            "455/455 [==============================] - 0s 57us/step - loss: 0.1065\n",
            "Epoch 33/100\n",
            "455/455 [==============================] - 0s 57us/step - loss: 0.1037\n",
            "Epoch 34/100\n",
            "455/455 [==============================] - 0s 56us/step - loss: 0.1011\n",
            "Epoch 35/100\n",
            "455/455 [==============================] - 0s 45us/step - loss: 0.0986\n",
            "Epoch 36/100\n",
            "455/455 [==============================] - 0s 42us/step - loss: 0.0964\n",
            "Epoch 37/100\n",
            "455/455 [==============================] - 0s 46us/step - loss: 0.0943\n",
            "Epoch 38/100\n",
            "455/455 [==============================] - 0s 45us/step - loss: 0.0924\n",
            "Epoch 39/100\n",
            "455/455 [==============================] - 0s 55us/step - loss: 0.0905\n",
            "Epoch 40/100\n",
            "455/455 [==============================] - 0s 50us/step - loss: 0.0889\n",
            "Epoch 41/100\n",
            "455/455 [==============================] - 0s 44us/step - loss: 0.0875\n",
            "Epoch 42/100\n",
            "455/455 [==============================] - 0s 53us/step - loss: 0.0862\n",
            "Epoch 43/100\n",
            "455/455 [==============================] - 0s 51us/step - loss: 0.0850\n",
            "Epoch 44/100\n",
            "455/455 [==============================] - 0s 61us/step - loss: 0.0837\n",
            "Epoch 45/100\n",
            "455/455 [==============================] - 0s 51us/step - loss: 0.0825\n",
            "Epoch 46/100\n",
            "455/455 [==============================] - 0s 55us/step - loss: 0.0815\n",
            "Epoch 47/100\n",
            "455/455 [==============================] - 0s 44us/step - loss: 0.0805\n",
            "Epoch 48/100\n",
            "455/455 [==============================] - 0s 58us/step - loss: 0.0796\n",
            "Epoch 49/100\n",
            "455/455 [==============================] - 0s 52us/step - loss: 0.0787\n",
            "Epoch 50/100\n",
            "455/455 [==============================] - 0s 43us/step - loss: 0.0778\n",
            "Epoch 51/100\n",
            "455/455 [==============================] - 0s 47us/step - loss: 0.0770\n",
            "Epoch 52/100\n",
            "455/455 [==============================] - 0s 44us/step - loss: 0.0762\n",
            "Epoch 53/100\n",
            "455/455 [==============================] - 0s 46us/step - loss: 0.0755\n",
            "Epoch 54/100\n",
            "455/455 [==============================] - 0s 47us/step - loss: 0.0746\n",
            "Epoch 55/100\n",
            "455/455 [==============================] - 0s 50us/step - loss: 0.0738\n",
            "Epoch 56/100\n",
            "455/455 [==============================] - 0s 50us/step - loss: 0.0734\n",
            "Epoch 57/100\n",
            "455/455 [==============================] - 0s 50us/step - loss: 0.0726\n",
            "Epoch 58/100\n",
            "455/455 [==============================] - 0s 46us/step - loss: 0.0721\n",
            "Epoch 59/100\n",
            "455/455 [==============================] - 0s 44us/step - loss: 0.0715\n",
            "Epoch 60/100\n",
            "455/455 [==============================] - 0s 49us/step - loss: 0.0709\n",
            "Epoch 61/100\n",
            "455/455 [==============================] - 0s 46us/step - loss: 0.0703\n",
            "Epoch 62/100\n",
            "455/455 [==============================] - 0s 47us/step - loss: 0.0699\n",
            "Epoch 63/100\n",
            "455/455 [==============================] - 0s 42us/step - loss: 0.0693\n",
            "Epoch 64/100\n",
            "455/455 [==============================] - 0s 52us/step - loss: 0.0687\n",
            "Epoch 65/100\n",
            "455/455 [==============================] - 0s 41us/step - loss: 0.0682\n",
            "Epoch 66/100\n",
            "455/455 [==============================] - 0s 48us/step - loss: 0.0677\n",
            "Epoch 67/100\n",
            "455/455 [==============================] - 0s 50us/step - loss: 0.0672\n",
            "Epoch 68/100\n",
            "455/455 [==============================] - 0s 45us/step - loss: 0.0667\n",
            "Epoch 69/100\n",
            "455/455 [==============================] - 0s 42us/step - loss: 0.0663\n",
            "Epoch 70/100\n",
            "455/455 [==============================] - 0s 44us/step - loss: 0.0659\n",
            "Epoch 71/100\n",
            "455/455 [==============================] - 0s 59us/step - loss: 0.0655\n",
            "Epoch 72/100\n",
            "455/455 [==============================] - 0s 52us/step - loss: 0.0650\n",
            "Epoch 73/100\n",
            "455/455 [==============================] - 0s 43us/step - loss: 0.0647\n",
            "Epoch 74/100\n",
            "455/455 [==============================] - 0s 62us/step - loss: 0.0644\n",
            "Epoch 75/100\n",
            "455/455 [==============================] - 0s 58us/step - loss: 0.0641\n",
            "Epoch 76/100\n",
            "455/455 [==============================] - 0s 59us/step - loss: 0.0636\n",
            "Epoch 77/100\n",
            "455/455 [==============================] - 0s 45us/step - loss: 0.0632\n",
            "Epoch 78/100\n",
            "455/455 [==============================] - 0s 44us/step - loss: 0.0629\n",
            "Epoch 79/100\n",
            "455/455 [==============================] - 0s 50us/step - loss: 0.0625\n",
            "Epoch 80/100\n",
            "455/455 [==============================] - 0s 48us/step - loss: 0.0622\n",
            "Epoch 81/100\n",
            "455/455 [==============================] - 0s 57us/step - loss: 0.0619\n",
            "Epoch 82/100\n",
            "455/455 [==============================] - 0s 45us/step - loss: 0.0616\n",
            "Epoch 83/100\n",
            "455/455 [==============================] - 0s 56us/step - loss: 0.0611\n",
            "Epoch 84/100\n",
            "455/455 [==============================] - 0s 50us/step - loss: 0.0608\n",
            "Epoch 85/100\n",
            "455/455 [==============================] - 0s 47us/step - loss: 0.0605\n",
            "Epoch 86/100\n",
            "455/455 [==============================] - 0s 56us/step - loss: 0.0601\n",
            "Epoch 87/100\n",
            "455/455 [==============================] - 0s 53us/step - loss: 0.0599\n",
            "Epoch 88/100\n",
            "455/455 [==============================] - 0s 55us/step - loss: 0.0596\n",
            "Epoch 89/100\n",
            "455/455 [==============================] - 0s 60us/step - loss: 0.0592\n",
            "Epoch 90/100\n",
            "455/455 [==============================] - 0s 45us/step - loss: 0.0589\n",
            "Epoch 91/100\n",
            "455/455 [==============================] - 0s 50us/step - loss: 0.0587\n",
            "Epoch 92/100\n",
            "455/455 [==============================] - 0s 52us/step - loss: 0.0584\n",
            "Epoch 93/100\n",
            "455/455 [==============================] - 0s 57us/step - loss: 0.0582\n",
            "Epoch 94/100\n",
            "455/455 [==============================] - 0s 51us/step - loss: 0.0579\n",
            "Epoch 95/100\n",
            "455/455 [==============================] - 0s 49us/step - loss: 0.0576\n",
            "Epoch 96/100\n",
            "455/455 [==============================] - 0s 47us/step - loss: 0.0573\n",
            "Epoch 97/100\n",
            "455/455 [==============================] - 0s 49us/step - loss: 0.0571\n",
            "Epoch 98/100\n",
            "455/455 [==============================] - 0s 47us/step - loss: 0.0568\n",
            "Epoch 99/100\n",
            "455/455 [==============================] - 0s 45us/step - loss: 0.0566\n",
            "Epoch 100/100\n",
            "455/455 [==============================] - 0s 53us/step - loss: 0.0564\n"
          ],
          "name": "stdout"
        },
        {
          "output_type": "execute_result",
          "data": {
            "text/plain": [
              "<keras.callbacks.History at 0x7f4462a8fa90>"
            ]
          },
          "metadata": {
            "tags": []
          },
          "execution_count": 22
        }
      ]
    },
    {
      "cell_type": "code",
      "metadata": {
        "id": "JgO1z9g1GKhp",
        "colab_type": "code",
        "colab": {}
      },
      "source": [
        "y_pred = model.predict(X_test)\n",
        "y_pred = [1 if y>=0.5 else 0 for y in y_pred]"
      ],
      "execution_count": 0,
      "outputs": []
    },
    {
      "cell_type": "code",
      "metadata": {
        "id": "E5XeTxF5Gm92",
        "colab_type": "code",
        "colab": {
          "base_uri": "https://localhost:8080/",
          "height": 68
        },
        "outputId": "27b67cd3-953e-4f45-f269-c0198afe5d4d"
      },
      "source": [
        "r = 0\n",
        "w = 0\n",
        "t = 0\n",
        "\n",
        "for i in range(len(y_pred)):\n",
        "  t = t + 1\n",
        "  if Y_test.at[i,0]==y_pred[i]:\n",
        "    r = r + 1\n",
        "  else:\n",
        "    w = w + 1\n",
        "    \n",
        "print(\"TOTAL: \",str(t)) \n",
        "print(\"CORRECT: \",str(r))\n",
        "print(\"WRONG: \",str(w))"
      ],
      "execution_count": 24,
      "outputs": [
        {
          "output_type": "stream",
          "text": [
            "TOTAL:  114\n",
            "CORRECT:  109\n",
            "WRONG:  5\n"
          ],
          "name": "stdout"
        }
      ]
    },
    {
      "cell_type": "code",
      "metadata": {
        "id": "BZWjRGiAH6Rx",
        "colab_type": "code",
        "colab": {}
      },
      "source": [
        ""
      ],
      "execution_count": 0,
      "outputs": []
    }
  ]
}